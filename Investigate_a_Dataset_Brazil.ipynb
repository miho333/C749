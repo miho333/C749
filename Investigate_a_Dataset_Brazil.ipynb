{
 "cells": [
  {
   "cell_type": "markdown",
   "metadata": {
    "tags": []
   },
   "source": [
    "# Project: Investigate a Dataset - [Medical Appointment No Shows]\n",
    "\n",
    "## Table of Contents\n",
    "<ul>\n",
    "<li><a href=\"#intro\">Introduction</a></li>\n",
    "<li><a href=\"#wrangling\">Data Wrangling</a></li>\n",
    "<li><a href=\"#eda\">Exploratory Data Analysis</a></li>\n",
    "<li><a href=\"#conclusions\">Conclusions</a></li>\n",
    "</ul>"
   ]
  },
  {
   "cell_type": "markdown",
   "metadata": {},
   "source": [
    "<a id='intro'></a>\n",
    "## Introduction\n",
    "\n",
    "### Dataset Description \n",
    "\n",
    "In this notebook we will examine medical appointment no-show data from this [Kaggle Dataset](https://www.kaggle.com/datasets/joniarroba/noshowappointments/). The data is of over 110,000 rows of medical appointments with 14 associated variables and the source is a healthcare system in Brazil. \n",
    "\n",
    "The 14 variables for each appoinetment are:\n",
    "1. **PatientId** - a unique ID number for each patient \n",
    "2. **AppointmentID** - a unique ID number for each medical appointment\n",
    "3. **Gender** - patient gender\n",
    "4. **ScheduledDay** - the date that the appointment was made\n",
    "5. **AppointmentDay** - the date of the appointment\n",
    "6. **Age** - patient age\n",
    "7. **Neighbourhood** - the geographic neighborhood of the appointment\n",
    "8. **Scholarship** - indicates if the patient is part of a subsidized healthcare program\n",
    "9. **Hipertension** - indicates if patient has hypertension\n",
    "10. **Diabetes** - indicates if patient has hypertention\n",
    "11. **Alcoholism** - indicates if patient has alcoholism\n",
    "12. **Handcap** - indicates if patient has a handicap\n",
    "13. **SMS_received** - indicates if an SMS message (text) was sent to pateint about the appointment\n",
    "14. **No-show** - indicates if patient missed their appointment\n",
    "\n",
    "### Question(s) for Analysis\n",
    "\n",
    "In this notebook we will be looking at 3 questions for analysis:\n",
    "1. **What day of the week are people most likely to no-show?**\n",
    "2. **What is the difference between alcoholics and non-alcoholics in no-show rates?**\n",
    "3. **How do SMS messages affect patient likelihood to no-show?**\n",
    "\n"
   ]
  },
  {
   "cell_type": "markdown",
   "metadata": {},
   "source": [
    "To begin answering these questions we'll first need to load the necessary python packages to investigate our data:"
   ]
  },
  {
   "cell_type": "code",
   "execution_count": 4,
   "metadata": {
    "tags": []
   },
   "outputs": [],
   "source": [
    "#Import python packages\n",
    "import pandas as pd\n",
    "import numpy as np\n",
    "import matplotlib as mp\n",
    "import matplotlib.pyplot as plt\n",
    "import seaborn as sns\n",
    "%matplotlib inline\n"
   ]
  },
  {
   "cell_type": "markdown",
   "metadata": {},
   "source": [
    "<a id='wrangling'></a>\n",
    "## Data Wrangling\n",
    "\n",
    "In this section of the report we will load in the data, check for cleanliness, and then trim and clean the dataset for analysis.\n",
    "\n",
    "### General Properties\n",
    "First, let's inspect the data to get an overview of what we're working with:"
   ]
  },
  {
   "cell_type": "code",
   "execution_count": 6,
   "metadata": {
    "tags": []
   },
   "outputs": [
    {
     "name": "stdout",
     "output_type": "stream",
     "text": [
      "<class 'pandas.core.frame.DataFrame'>\n",
      "RangeIndex: 110527 entries, 0 to 110526\n",
      "Data columns (total 14 columns):\n",
      " #   Column          Non-Null Count   Dtype  \n",
      "---  ------          --------------   -----  \n",
      " 0   PatientId       110527 non-null  float64\n",
      " 1   AppointmentID   110527 non-null  int64  \n",
      " 2   Gender          110527 non-null  object \n",
      " 3   ScheduledDay    110527 non-null  object \n",
      " 4   AppointmentDay  110527 non-null  object \n",
      " 5   Age             110527 non-null  int64  \n",
      " 6   Neighbourhood   110527 non-null  object \n",
      " 7   Scholarship     110527 non-null  int64  \n",
      " 8   Hipertension    110527 non-null  int64  \n",
      " 9   Diabetes        110527 non-null  int64  \n",
      " 10  Alcoholism      110527 non-null  int64  \n",
      " 11  Handcap         110527 non-null  int64  \n",
      " 12  SMS_received    110527 non-null  int64  \n",
      " 13  No-show         110527 non-null  object \n",
      "dtypes: float64(1), int64(8), object(5)\n",
      "memory usage: 11.8+ MB\n"
     ]
    }
   ],
   "source": [
    "#Load and inspect data from CSV\n",
    "df = pd.read_csv('noshowappointments-kagglev2-may-2016.csv')\n",
    "df.info()"
   ]
  },
  {
   "cell_type": "markdown",
   "metadata": {},
   "source": [
    "We can see we've loaded our data successfully. A few things stand out:\n",
    "1. sched_day and appt_day would ideally both be datetime variables, not string objects. We will change that later.\n",
    "2. Column names are mispelled in Neighbourhood, Hipertension, and Handcap.\n",
    "3. Consistent non-null values might indicate no null values present in the dataframe, which would be great.\n",
    "4. No-show is a string when it ideally would be an int that holds boolean values like in alcoholism, diabetes, etc. \n",
    "\n",
    "Let's look at high level description of the data for additional information:"
   ]
  },
  {
   "cell_type": "code",
   "execution_count": 8,
   "metadata": {},
   "outputs": [
    {
     "data": {
      "text/html": [
       "<div>\n",
       "<style scoped>\n",
       "    .dataframe tbody tr th:only-of-type {\n",
       "        vertical-align: middle;\n",
       "    }\n",
       "\n",
       "    .dataframe tbody tr th {\n",
       "        vertical-align: top;\n",
       "    }\n",
       "\n",
       "    .dataframe thead th {\n",
       "        text-align: right;\n",
       "    }\n",
       "</style>\n",
       "<table border=\"1\" class=\"dataframe\">\n",
       "  <thead>\n",
       "    <tr style=\"text-align: right;\">\n",
       "      <th></th>\n",
       "      <th>PatientId</th>\n",
       "      <th>AppointmentID</th>\n",
       "      <th>Age</th>\n",
       "      <th>Scholarship</th>\n",
       "      <th>Hipertension</th>\n",
       "      <th>Diabetes</th>\n",
       "      <th>Alcoholism</th>\n",
       "      <th>Handcap</th>\n",
       "      <th>SMS_received</th>\n",
       "    </tr>\n",
       "  </thead>\n",
       "  <tbody>\n",
       "    <tr>\n",
       "      <th>count</th>\n",
       "      <td>1.105270e+05</td>\n",
       "      <td>1.105270e+05</td>\n",
       "      <td>110527.000000</td>\n",
       "      <td>110527.000000</td>\n",
       "      <td>110527.000000</td>\n",
       "      <td>110527.000000</td>\n",
       "      <td>110527.000000</td>\n",
       "      <td>110527.000000</td>\n",
       "      <td>110527.000000</td>\n",
       "    </tr>\n",
       "    <tr>\n",
       "      <th>mean</th>\n",
       "      <td>1.474963e+14</td>\n",
       "      <td>5.675305e+06</td>\n",
       "      <td>37.088874</td>\n",
       "      <td>0.098266</td>\n",
       "      <td>0.197246</td>\n",
       "      <td>0.071865</td>\n",
       "      <td>0.030400</td>\n",
       "      <td>0.022248</td>\n",
       "      <td>0.321026</td>\n",
       "    </tr>\n",
       "    <tr>\n",
       "      <th>std</th>\n",
       "      <td>2.560949e+14</td>\n",
       "      <td>7.129575e+04</td>\n",
       "      <td>23.110205</td>\n",
       "      <td>0.297675</td>\n",
       "      <td>0.397921</td>\n",
       "      <td>0.258265</td>\n",
       "      <td>0.171686</td>\n",
       "      <td>0.161543</td>\n",
       "      <td>0.466873</td>\n",
       "    </tr>\n",
       "    <tr>\n",
       "      <th>min</th>\n",
       "      <td>3.921784e+04</td>\n",
       "      <td>5.030230e+06</td>\n",
       "      <td>-1.000000</td>\n",
       "      <td>0.000000</td>\n",
       "      <td>0.000000</td>\n",
       "      <td>0.000000</td>\n",
       "      <td>0.000000</td>\n",
       "      <td>0.000000</td>\n",
       "      <td>0.000000</td>\n",
       "    </tr>\n",
       "    <tr>\n",
       "      <th>25%</th>\n",
       "      <td>4.172614e+12</td>\n",
       "      <td>5.640286e+06</td>\n",
       "      <td>18.000000</td>\n",
       "      <td>0.000000</td>\n",
       "      <td>0.000000</td>\n",
       "      <td>0.000000</td>\n",
       "      <td>0.000000</td>\n",
       "      <td>0.000000</td>\n",
       "      <td>0.000000</td>\n",
       "    </tr>\n",
       "    <tr>\n",
       "      <th>50%</th>\n",
       "      <td>3.173184e+13</td>\n",
       "      <td>5.680573e+06</td>\n",
       "      <td>37.000000</td>\n",
       "      <td>0.000000</td>\n",
       "      <td>0.000000</td>\n",
       "      <td>0.000000</td>\n",
       "      <td>0.000000</td>\n",
       "      <td>0.000000</td>\n",
       "      <td>0.000000</td>\n",
       "    </tr>\n",
       "    <tr>\n",
       "      <th>75%</th>\n",
       "      <td>9.439172e+13</td>\n",
       "      <td>5.725524e+06</td>\n",
       "      <td>55.000000</td>\n",
       "      <td>0.000000</td>\n",
       "      <td>0.000000</td>\n",
       "      <td>0.000000</td>\n",
       "      <td>0.000000</td>\n",
       "      <td>0.000000</td>\n",
       "      <td>1.000000</td>\n",
       "    </tr>\n",
       "    <tr>\n",
       "      <th>max</th>\n",
       "      <td>9.999816e+14</td>\n",
       "      <td>5.790484e+06</td>\n",
       "      <td>115.000000</td>\n",
       "      <td>1.000000</td>\n",
       "      <td>1.000000</td>\n",
       "      <td>1.000000</td>\n",
       "      <td>1.000000</td>\n",
       "      <td>4.000000</td>\n",
       "      <td>1.000000</td>\n",
       "    </tr>\n",
       "  </tbody>\n",
       "</table>\n",
       "</div>"
      ],
      "text/plain": [
       "          PatientId  AppointmentID            Age    Scholarship  \\\n",
       "count  1.105270e+05   1.105270e+05  110527.000000  110527.000000   \n",
       "mean   1.474963e+14   5.675305e+06      37.088874       0.098266   \n",
       "std    2.560949e+14   7.129575e+04      23.110205       0.297675   \n",
       "min    3.921784e+04   5.030230e+06      -1.000000       0.000000   \n",
       "25%    4.172614e+12   5.640286e+06      18.000000       0.000000   \n",
       "50%    3.173184e+13   5.680573e+06      37.000000       0.000000   \n",
       "75%    9.439172e+13   5.725524e+06      55.000000       0.000000   \n",
       "max    9.999816e+14   5.790484e+06     115.000000       1.000000   \n",
       "\n",
       "        Hipertension       Diabetes     Alcoholism        Handcap  \\\n",
       "count  110527.000000  110527.000000  110527.000000  110527.000000   \n",
       "mean        0.197246       0.071865       0.030400       0.022248   \n",
       "std         0.397921       0.258265       0.171686       0.161543   \n",
       "min         0.000000       0.000000       0.000000       0.000000   \n",
       "25%         0.000000       0.000000       0.000000       0.000000   \n",
       "50%         0.000000       0.000000       0.000000       0.000000   \n",
       "75%         0.000000       0.000000       0.000000       0.000000   \n",
       "max         1.000000       1.000000       1.000000       4.000000   \n",
       "\n",
       "        SMS_received  \n",
       "count  110527.000000  \n",
       "mean        0.321026  \n",
       "std         0.466873  \n",
       "min         0.000000  \n",
       "25%         0.000000  \n",
       "50%         0.000000  \n",
       "75%         1.000000  \n",
       "max         1.000000  "
      ]
     },
     "execution_count": 8,
     "metadata": {},
     "output_type": "execute_result"
    }
   ],
   "source": [
    "#Review dataframe\n",
    "df.describe()"
   ]
  },
  {
   "cell_type": "markdown",
   "metadata": {},
   "source": [
    "We can see the average patient is about 37 years old and that hypertension, diabetes, alcoholism and handicap are progressively less common conditions. The minimum patient age is -1, this is a problem as it is impossible to have a negative age. This will be addressed. The maximum age here is 115 which is rare but not *impossible*. There are many documented people aged [115 and older](https://en.wikipedia.org/wiki/List_of_the_verified_oldest_people).\n",
    "\n",
    "The maximum value we see in the handicap column is 4, but according to the [source data](https://www.kaggle.com/datasets/joniarroba/noshowappointments/data) handicap is measured as a binary value so this will need to be resolved. All the other binary values for scholarship, hypertension, diabetes, alcoholism, and SMS received look good. \n",
    "\n",
    "Now let's see if we can find any null values in the dataframe:"
   ]
  },
  {
   "cell_type": "code",
   "execution_count": 10,
   "metadata": {},
   "outputs": [
    {
     "data": {
      "text/plain": [
       "PatientId         0\n",
       "AppointmentID     0\n",
       "Gender            0\n",
       "ScheduledDay      0\n",
       "AppointmentDay    0\n",
       "Age               0\n",
       "Neighbourhood     0\n",
       "Scholarship       0\n",
       "Hipertension      0\n",
       "Diabetes          0\n",
       "Alcoholism        0\n",
       "Handcap           0\n",
       "SMS_received      0\n",
       "No-show           0\n",
       "dtype: int64"
      ]
     },
     "execution_count": 10,
     "metadata": {},
     "output_type": "execute_result"
    }
   ],
   "source": [
    "#Check for null values in columns of dataframe\n",
    "df.isnull().sum()"
   ]
  },
  {
   "cell_type": "markdown",
   "metadata": {},
   "source": [
    "Great, we see no null values in the dataframe. \n",
    "\n",
    "Next we will look for duplicate entries in the data:"
   ]
  },
  {
   "cell_type": "code",
   "execution_count": 12,
   "metadata": {},
   "outputs": [
    {
     "data": {
      "text/plain": [
       "0"
      ]
     },
     "execution_count": 12,
     "metadata": {},
     "output_type": "execute_result"
    }
   ],
   "source": [
    "#Check for duplicate rows in dataframe and count them\n",
    "df.duplicated().sum()"
   ]
  },
  {
   "cell_type": "markdown",
   "metadata": {},
   "source": [
    "More good news - we don't see any duplicate rows to deal with.\n",
    "\n",
    "Next, we will correct some spelling errors in column names and rename them to be more consistent and user-friendly to type:"
   ]
  },
  {
   "cell_type": "code",
   "execution_count": 14,
   "metadata": {},
   "outputs": [
    {
     "data": {
      "text/html": [
       "<div>\n",
       "<style scoped>\n",
       "    .dataframe tbody tr th:only-of-type {\n",
       "        vertical-align: middle;\n",
       "    }\n",
       "\n",
       "    .dataframe tbody tr th {\n",
       "        vertical-align: top;\n",
       "    }\n",
       "\n",
       "    .dataframe thead th {\n",
       "        text-align: right;\n",
       "    }\n",
       "</style>\n",
       "<table border=\"1\" class=\"dataframe\">\n",
       "  <thead>\n",
       "    <tr style=\"text-align: right;\">\n",
       "      <th></th>\n",
       "      <th>patientid</th>\n",
       "      <th>appt_id</th>\n",
       "      <th>gender</th>\n",
       "      <th>sched_day</th>\n",
       "      <th>appt_day</th>\n",
       "      <th>age</th>\n",
       "      <th>neighborhood</th>\n",
       "      <th>scholarship</th>\n",
       "      <th>hypertension</th>\n",
       "      <th>diabetes</th>\n",
       "      <th>alcoholism</th>\n",
       "      <th>handicap</th>\n",
       "      <th>sms_received</th>\n",
       "      <th>no_show</th>\n",
       "    </tr>\n",
       "  </thead>\n",
       "  <tbody>\n",
       "    <tr>\n",
       "      <th>0</th>\n",
       "      <td>2.987250e+13</td>\n",
       "      <td>5642903</td>\n",
       "      <td>F</td>\n",
       "      <td>2016-04-29T18:38:08Z</td>\n",
       "      <td>2016-04-29T00:00:00Z</td>\n",
       "      <td>62</td>\n",
       "      <td>JARDIM DA PENHA</td>\n",
       "      <td>0</td>\n",
       "      <td>1</td>\n",
       "      <td>0</td>\n",
       "      <td>0</td>\n",
       "      <td>0</td>\n",
       "      <td>0</td>\n",
       "      <td>No</td>\n",
       "    </tr>\n",
       "    <tr>\n",
       "      <th>1</th>\n",
       "      <td>5.589978e+14</td>\n",
       "      <td>5642503</td>\n",
       "      <td>M</td>\n",
       "      <td>2016-04-29T16:08:27Z</td>\n",
       "      <td>2016-04-29T00:00:00Z</td>\n",
       "      <td>56</td>\n",
       "      <td>JARDIM DA PENHA</td>\n",
       "      <td>0</td>\n",
       "      <td>0</td>\n",
       "      <td>0</td>\n",
       "      <td>0</td>\n",
       "      <td>0</td>\n",
       "      <td>0</td>\n",
       "      <td>No</td>\n",
       "    </tr>\n",
       "    <tr>\n",
       "      <th>2</th>\n",
       "      <td>4.262962e+12</td>\n",
       "      <td>5642549</td>\n",
       "      <td>F</td>\n",
       "      <td>2016-04-29T16:19:04Z</td>\n",
       "      <td>2016-04-29T00:00:00Z</td>\n",
       "      <td>62</td>\n",
       "      <td>MATA DA PRAIA</td>\n",
       "      <td>0</td>\n",
       "      <td>0</td>\n",
       "      <td>0</td>\n",
       "      <td>0</td>\n",
       "      <td>0</td>\n",
       "      <td>0</td>\n",
       "      <td>No</td>\n",
       "    </tr>\n",
       "    <tr>\n",
       "      <th>3</th>\n",
       "      <td>8.679512e+11</td>\n",
       "      <td>5642828</td>\n",
       "      <td>F</td>\n",
       "      <td>2016-04-29T17:29:31Z</td>\n",
       "      <td>2016-04-29T00:00:00Z</td>\n",
       "      <td>8</td>\n",
       "      <td>PONTAL DE CAMBURI</td>\n",
       "      <td>0</td>\n",
       "      <td>0</td>\n",
       "      <td>0</td>\n",
       "      <td>0</td>\n",
       "      <td>0</td>\n",
       "      <td>0</td>\n",
       "      <td>No</td>\n",
       "    </tr>\n",
       "    <tr>\n",
       "      <th>4</th>\n",
       "      <td>8.841186e+12</td>\n",
       "      <td>5642494</td>\n",
       "      <td>F</td>\n",
       "      <td>2016-04-29T16:07:23Z</td>\n",
       "      <td>2016-04-29T00:00:00Z</td>\n",
       "      <td>56</td>\n",
       "      <td>JARDIM DA PENHA</td>\n",
       "      <td>0</td>\n",
       "      <td>1</td>\n",
       "      <td>1</td>\n",
       "      <td>0</td>\n",
       "      <td>0</td>\n",
       "      <td>0</td>\n",
       "      <td>No</td>\n",
       "    </tr>\n",
       "  </tbody>\n",
       "</table>\n",
       "</div>"
      ],
      "text/plain": [
       "      patientid  appt_id gender             sched_day              appt_day  \\\n",
       "0  2.987250e+13  5642903      F  2016-04-29T18:38:08Z  2016-04-29T00:00:00Z   \n",
       "1  5.589978e+14  5642503      M  2016-04-29T16:08:27Z  2016-04-29T00:00:00Z   \n",
       "2  4.262962e+12  5642549      F  2016-04-29T16:19:04Z  2016-04-29T00:00:00Z   \n",
       "3  8.679512e+11  5642828      F  2016-04-29T17:29:31Z  2016-04-29T00:00:00Z   \n",
       "4  8.841186e+12  5642494      F  2016-04-29T16:07:23Z  2016-04-29T00:00:00Z   \n",
       "\n",
       "   age       neighborhood  scholarship  hypertension  diabetes  alcoholism  \\\n",
       "0   62    JARDIM DA PENHA            0             1         0           0   \n",
       "1   56    JARDIM DA PENHA            0             0         0           0   \n",
       "2   62      MATA DA PRAIA            0             0         0           0   \n",
       "3    8  PONTAL DE CAMBURI            0             0         0           0   \n",
       "4   56    JARDIM DA PENHA            0             1         1           0   \n",
       "\n",
       "   handicap  sms_received no_show  \n",
       "0         0             0      No  \n",
       "1         0             0      No  \n",
       "2         0             0      No  \n",
       "3         0             0      No  \n",
       "4         0             0      No  "
      ]
     },
     "execution_count": 14,
     "metadata": {},
     "output_type": "execute_result"
    }
   ],
   "source": [
    "#Rename columns to correct spelling and normalize style for ease of use\n",
    "df.rename(columns={'PatientId':'patientid', 'AppointmentID':'appt_id','Gender':'gender','ScheduledDay':'sched_day','AppointmentDay':'appt_day','Age':'age',\n",
    "                   'Neighbourhood':'neighborhood','Scholarship':'scholarship','Hipertension':'hypertension','Diabetes':'diabetes',\n",
    "                   'Alcoholism':'alcoholism','Handcap':'handicap','SMS_received':'sms_received','No-show':'no_show'}, inplace=True)\n",
    "#Take a glance at new columns\n",
    "df.head()"
   ]
  },
  {
   "cell_type": "markdown",
   "metadata": {},
   "source": [
    "Let's go back to the ages column and see how many appointments have the value of -1 that we identified earlier as the min:"
   ]
  },
  {
   "cell_type": "code",
   "execution_count": 16,
   "metadata": {},
   "outputs": [
    {
     "data": {
      "text/html": [
       "<div>\n",
       "<style scoped>\n",
       "    .dataframe tbody tr th:only-of-type {\n",
       "        vertical-align: middle;\n",
       "    }\n",
       "\n",
       "    .dataframe tbody tr th {\n",
       "        vertical-align: top;\n",
       "    }\n",
       "\n",
       "    .dataframe thead th {\n",
       "        text-align: right;\n",
       "    }\n",
       "</style>\n",
       "<table border=\"1\" class=\"dataframe\">\n",
       "  <thead>\n",
       "    <tr style=\"text-align: right;\">\n",
       "      <th></th>\n",
       "      <th>patientid</th>\n",
       "      <th>appt_id</th>\n",
       "      <th>gender</th>\n",
       "      <th>sched_day</th>\n",
       "      <th>appt_day</th>\n",
       "      <th>age</th>\n",
       "      <th>neighborhood</th>\n",
       "      <th>scholarship</th>\n",
       "      <th>hypertension</th>\n",
       "      <th>diabetes</th>\n",
       "      <th>alcoholism</th>\n",
       "      <th>handicap</th>\n",
       "      <th>sms_received</th>\n",
       "      <th>no_show</th>\n",
       "    </tr>\n",
       "  </thead>\n",
       "  <tbody>\n",
       "    <tr>\n",
       "      <th>99832</th>\n",
       "      <td>4.659432e+14</td>\n",
       "      <td>5775010</td>\n",
       "      <td>F</td>\n",
       "      <td>2016-06-06T08:58:13Z</td>\n",
       "      <td>2016-06-06T00:00:00Z</td>\n",
       "      <td>-1</td>\n",
       "      <td>ROMÃO</td>\n",
       "      <td>0</td>\n",
       "      <td>0</td>\n",
       "      <td>0</td>\n",
       "      <td>0</td>\n",
       "      <td>0</td>\n",
       "      <td>0</td>\n",
       "      <td>No</td>\n",
       "    </tr>\n",
       "  </tbody>\n",
       "</table>\n",
       "</div>"
      ],
      "text/plain": [
       "          patientid  appt_id gender             sched_day  \\\n",
       "99832  4.659432e+14  5775010      F  2016-06-06T08:58:13Z   \n",
       "\n",
       "                   appt_day  age neighborhood  scholarship  hypertension  \\\n",
       "99832  2016-06-06T00:00:00Z   -1        ROMÃO            0             0   \n",
       "\n",
       "       diabetes  alcoholism  handicap  sms_received no_show  \n",
       "99832         0           0         0             0      No  "
      ]
     },
     "execution_count": 16,
     "metadata": {},
     "output_type": "execute_result"
    }
   ],
   "source": [
    "#Find all records with an age value < 0\n",
    "negative_ages = df[df['age'] < 0]\n",
    "negative_ages"
   ]
  },
  {
   "cell_type": "markdown",
   "metadata": {},
   "source": [
    "Thankfully only 1 entry out of 110,527 has an age of -1. We should be able to remove that single entry without affecting the data much, we'll do that in the Data Cleaning section later. \n",
    "\n",
    "For now, let's take a look at a histogram of our age data:"
   ]
  },
  {
   "cell_type": "code",
   "execution_count": 18,
   "metadata": {},
   "outputs": [
    {
     "data": {
      "image/png": "[encoded data removed]",
      "text/plain": [
       "<Figure size 640x480 with 1 Axes>"
      ]
     },
     "metadata": {},
     "output_type": "display_data"
    }
   ],
   "source": [
    "#Create and display a histogram of all ages\n",
    "df.age.hist();"
   ]
  },
  {
   "cell_type": "markdown",
   "metadata": {},
   "source": [
    "At a glance this looks like normal demographics of a growing population, [like Brazil](https://en.wikipedia.org/wiki/Demographics_of_Brazil). There are a lot of records for newborns and very young children, less elderly patients. \n",
    "\n",
    "Next we will check if all patientids have consistent ages associated with them. A change in age values for a patient could be normal if they age, or it could indicate an error. Let's investigate:"
   ]
  },
  {
   "cell_type": "code",
   "execution_count": 20,
   "metadata": {},
   "outputs": [
    {
     "data": {
      "text/plain": [
       "2"
      ]
     },
     "execution_count": 20,
     "metadata": {},
     "output_type": "execute_result"
    }
   ],
   "source": [
    "#Group the dataframe by patientid and age, then count total unique age values for each patient ID\n",
    "age_test = df.groupby('patientid')['age'].nunique()\n",
    "\n",
    "#Examine the maximum amount of values any patient id has for age:\n",
    "age_test.max()"
   ]
  },
  {
   "cell_type": "markdown",
   "metadata": {},
   "source": [
    "We can now see that we've got unique patientid values with up to 2 age values. This could be okay if the time frame for our data is long enough; people will age up once and have 2 different ages within one year. It is important for us to measure what length of time these appointments cover AND the maximum difference between ages. \n",
    "\n",
    "To check what length of time the appointments cover we'll need to see the time difference between the minimum and maximum values in appointment dates. To do this we will first need to convert the sched_day and appt_day columns from string objects to datetime objects, then we'll be able to look at the high level data of each column. We'll do that in the Data Cleaning section."
   ]
  },
  {
   "cell_type": "markdown",
   "metadata": {},
   "source": [
    "## Data Cleaning\n",
    "\n",
    "First we will start by removing the record with an invalid age that we identified earlier. Instead of removing this record we could instead normalize it to another value, but given that we have over 110,000 records I would rather remove this datapoint for the sake of data integrity. A valid age value could be anything from 0 to 115 so there is a wide range of possibilities for this value. \n",
    "\n",
    "I would generally prefer to remove erroneous data rather than change errors to estimates, where it is reasonably possible to do so. Given that this is just 1 out of very many records its absence will not be felt very much and I will not be inserting any of my own false data this way. "
   ]
  },
  {
   "cell_type": "code",
   "execution_count": 23,
   "metadata": {},
   "outputs": [
    {
     "name": "stdout",
     "output_type": "stream",
     "text": [
      "Rows in dataframe before removal: 110527\n",
      "Rows in dataframe after removal: 110526\n"
     ]
    }
   ],
   "source": [
    "print(f'Rows in dataframe before removal: {df.shape[0]}')\n",
    "\n",
    "#Drop entry at target index\n",
    "df.drop(negative_ages.index, inplace=True)\n",
    "\n",
    "#Check shape of dataframe again after removal\n",
    "print(f'Rows in dataframe after removal: {df.shape[0]}')"
   ]
  },
  {
   "cell_type": "markdown",
   "metadata": {},
   "source": [
    "We can see that we've successfully deleted only the one entry."
   ]
  },
  {
   "cell_type": "markdown",
   "metadata": {},
   "source": [
    "We will now convert our sched_day and appt_day columns to datetime objects. This will allow us to do further investigation of the data and make sure that our values for age are consistent:"
   ]
  },
  {
   "cell_type": "code",
   "execution_count": 26,
   "metadata": {},
   "outputs": [
    {
     "name": "stdout",
     "output_type": "stream",
     "text": [
      "sched_day summary description:\n",
      "count                                 110526\n",
      "mean     2016-05-09 07:48:53.920779008+00:00\n",
      "min                2015-11-10 07:13:56+00:00\n",
      "25%                2016-04-29 10:27:01+00:00\n",
      "50%         2016-05-10 12:13:10.500000+00:00\n",
      "75%      2016-05-20 11:18:30.249999872+00:00\n",
      "max                2016-06-08 20:07:23+00:00\n",
      "Name: sched_day, dtype: object\n",
      "\n",
      "appt_day summary description:\n",
      "count                                 110526\n",
      "mean     2016-05-19 00:57:35.968731392+00:00\n",
      "min                2016-04-29 00:00:00+00:00\n",
      "25%                2016-05-09 00:00:00+00:00\n",
      "50%                2016-05-18 00:00:00+00:00\n",
      "75%                2016-05-31 00:00:00+00:00\n",
      "max                2016-06-08 00:00:00+00:00\n",
      "Name: appt_day, dtype: object\n"
     ]
    }
   ],
   "source": [
    "#Convert sched_day to datetime, raising any errors if found\n",
    "df['sched_day'] = pd.to_datetime(df['sched_day'], errors='raise')\n",
    "\n",
    "#Convert appt_day to datetime, raising any errors if found\n",
    "df['appt_day'] = pd.to_datetime(df['appt_day'], errors='raise')\n",
    "\n",
    "print('sched_day summary description:')\n",
    "print(df['sched_day'].describe())\n",
    "print()\n",
    "print('appt_day summary description:')\n",
    "print(df['appt_day'].describe())"
   ]
  },
  {
   "cell_type": "markdown",
   "metadata": {},
   "source": [
    "Note that we see different time stamps in sched_day, but every time stamp in appt_day is 00:00:00, which is midnight. It seems that we have no time information for our appointment days, which could limit our analysis. Let's check that before we go further:"
   ]
  },
  {
   "cell_type": "code",
   "execution_count": 28,
   "metadata": {},
   "outputs": [
    {
     "data": {
      "text/plain": [
       "1"
      ]
     },
     "execution_count": 28,
     "metadata": {},
     "output_type": "execute_result"
    }
   ],
   "source": [
    "#Capture all datetime hour values from the appt_day column of the dataframe\n",
    "appt_hrs = df['appt_day'].dt.hour\n",
    "\n",
    "#Display the number of unique values we have for hours\n",
    "appt_hrs.nunique()"
   ]
  },
  {
   "cell_type": "markdown",
   "metadata": {},
   "source": [
    "This is unfortunate as we have now confirmed that all the recorded times for appointments is midnight. This is likely a case of appointment times not being recorded as it is almost certain that no healthcare system only accepts appointments at midnight.\n",
    "\n",
    "We will next use dt.normalize() to set all sched_day datetimes to midnight as well. This will let us use dt.days to find the difference in whole days between sched_day and appt_day. We can then create a new column in our dataframe called **days_to_appt** that will hold this data for each appointment. We're going to use this new column many times in this notebook so it makes sense to create a new column we can easily reference."
   ]
  },
  {
   "cell_type": "code",
   "execution_count": 30,
   "metadata": {},
   "outputs": [
    {
     "data": {
      "text/html": [
       "<div>\n",
       "<style scoped>\n",
       "    .dataframe tbody tr th:only-of-type {\n",
       "        vertical-align: middle;\n",
       "    }\n",
       "\n",
       "    .dataframe tbody tr th {\n",
       "        vertical-align: top;\n",
       "    }\n",
       "\n",
       "    .dataframe thead th {\n",
       "        text-align: right;\n",
       "    }\n",
       "</style>\n",
       "<table border=\"1\" class=\"dataframe\">\n",
       "  <thead>\n",
       "    <tr style=\"text-align: right;\">\n",
       "      <th></th>\n",
       "      <th>patientid</th>\n",
       "      <th>appt_id</th>\n",
       "      <th>gender</th>\n",
       "      <th>sched_day</th>\n",
       "      <th>appt_day</th>\n",
       "      <th>age</th>\n",
       "      <th>neighborhood</th>\n",
       "      <th>scholarship</th>\n",
       "      <th>hypertension</th>\n",
       "      <th>diabetes</th>\n",
       "      <th>alcoholism</th>\n",
       "      <th>handicap</th>\n",
       "      <th>sms_received</th>\n",
       "      <th>no_show</th>\n",
       "      <th>days_to_appt</th>\n",
       "    </tr>\n",
       "  </thead>\n",
       "  <tbody>\n",
       "    <tr>\n",
       "      <th>110522</th>\n",
       "      <td>2.572134e+12</td>\n",
       "      <td>5651768</td>\n",
       "      <td>F</td>\n",
       "      <td>2016-05-03 09:15:35+00:00</td>\n",
       "      <td>2016-06-07 00:00:00+00:00</td>\n",
       "      <td>56</td>\n",
       "      <td>MARIA ORTIZ</td>\n",
       "      <td>0</td>\n",
       "      <td>0</td>\n",
       "      <td>0</td>\n",
       "      <td>0</td>\n",
       "      <td>0</td>\n",
       "      <td>1</td>\n",
       "      <td>No</td>\n",
       "      <td>35</td>\n",
       "    </tr>\n",
       "    <tr>\n",
       "      <th>110523</th>\n",
       "      <td>3.596266e+12</td>\n",
       "      <td>5650093</td>\n",
       "      <td>F</td>\n",
       "      <td>2016-05-03 07:27:33+00:00</td>\n",
       "      <td>2016-06-07 00:00:00+00:00</td>\n",
       "      <td>51</td>\n",
       "      <td>MARIA ORTIZ</td>\n",
       "      <td>0</td>\n",
       "      <td>0</td>\n",
       "      <td>0</td>\n",
       "      <td>0</td>\n",
       "      <td>0</td>\n",
       "      <td>1</td>\n",
       "      <td>No</td>\n",
       "      <td>35</td>\n",
       "    </tr>\n",
       "    <tr>\n",
       "      <th>110524</th>\n",
       "      <td>1.557663e+13</td>\n",
       "      <td>5630692</td>\n",
       "      <td>F</td>\n",
       "      <td>2016-04-27 16:03:52+00:00</td>\n",
       "      <td>2016-06-07 00:00:00+00:00</td>\n",
       "      <td>21</td>\n",
       "      <td>MARIA ORTIZ</td>\n",
       "      <td>0</td>\n",
       "      <td>0</td>\n",
       "      <td>0</td>\n",
       "      <td>0</td>\n",
       "      <td>0</td>\n",
       "      <td>1</td>\n",
       "      <td>No</td>\n",
       "      <td>41</td>\n",
       "    </tr>\n",
       "    <tr>\n",
       "      <th>110525</th>\n",
       "      <td>9.213493e+13</td>\n",
       "      <td>5630323</td>\n",
       "      <td>F</td>\n",
       "      <td>2016-04-27 15:09:23+00:00</td>\n",
       "      <td>2016-06-07 00:00:00+00:00</td>\n",
       "      <td>38</td>\n",
       "      <td>MARIA ORTIZ</td>\n",
       "      <td>0</td>\n",
       "      <td>0</td>\n",
       "      <td>0</td>\n",
       "      <td>0</td>\n",
       "      <td>0</td>\n",
       "      <td>1</td>\n",
       "      <td>No</td>\n",
       "      <td>41</td>\n",
       "    </tr>\n",
       "    <tr>\n",
       "      <th>110526</th>\n",
       "      <td>3.775115e+14</td>\n",
       "      <td>5629448</td>\n",
       "      <td>F</td>\n",
       "      <td>2016-04-27 13:30:56+00:00</td>\n",
       "      <td>2016-06-07 00:00:00+00:00</td>\n",
       "      <td>54</td>\n",
       "      <td>MARIA ORTIZ</td>\n",
       "      <td>0</td>\n",
       "      <td>0</td>\n",
       "      <td>0</td>\n",
       "      <td>0</td>\n",
       "      <td>0</td>\n",
       "      <td>1</td>\n",
       "      <td>No</td>\n",
       "      <td>41</td>\n",
       "    </tr>\n",
       "  </tbody>\n",
       "</table>\n",
       "</div>"
      ],
      "text/plain": [
       "           patientid  appt_id gender                 sched_day  \\\n",
       "110522  2.572134e+12  5651768      F 2016-05-03 09:15:35+00:00   \n",
       "110523  3.596266e+12  5650093      F 2016-05-03 07:27:33+00:00   \n",
       "110524  1.557663e+13  5630692      F 2016-04-27 16:03:52+00:00   \n",
       "110525  9.213493e+13  5630323      F 2016-04-27 15:09:23+00:00   \n",
       "110526  3.775115e+14  5629448      F 2016-04-27 13:30:56+00:00   \n",
       "\n",
       "                        appt_day  age neighborhood  scholarship  hypertension  \\\n",
       "110522 2016-06-07 00:00:00+00:00   56  MARIA ORTIZ            0             0   \n",
       "110523 2016-06-07 00:00:00+00:00   51  MARIA ORTIZ            0             0   \n",
       "110524 2016-06-07 00:00:00+00:00   21  MARIA ORTIZ            0             0   \n",
       "110525 2016-06-07 00:00:00+00:00   38  MARIA ORTIZ            0             0   \n",
       "110526 2016-06-07 00:00:00+00:00   54  MARIA ORTIZ            0             0   \n",
       "\n",
       "        diabetes  alcoholism  handicap  sms_received no_show  days_to_appt  \n",
       "110522         0           0         0             1      No            35  \n",
       "110523         0           0         0             1      No            35  \n",
       "110524         0           0         0             1      No            41  \n",
       "110525         0           0         0             1      No            41  \n",
       "110526         0           0         0             1      No            41  "
      ]
     },
     "execution_count": 30,
     "metadata": {},
     "output_type": "execute_result"
    }
   ],
   "source": [
    "#Create a new column to measure the time between scheduling and appointment\n",
    "#We use dt.normalize() to temporarily set all sched_day times to midnight\n",
    "df['days_to_appt'] = (df['appt_day'] - df['sched_day'].dt.normalize()).dt.days\n",
    "df.tail()"
   ]
  },
  {
   "cell_type": "markdown",
   "metadata": {},
   "source": [
    "Even after this normalization we may still discover errors if there are any appointments where the scheduling day is *after* the actual appointment. We will check for these errors below:"
   ]
  },
  {
   "cell_type": "code",
   "execution_count": 32,
   "metadata": {},
   "outputs": [
    {
     "name": "stdout",
     "output_type": "stream",
     "text": [
      "Total appointments with bad 'days_to_appt' values: 5\n"
     ]
    },
    {
     "data": {
      "text/html": [
       "<div>\n",
       "<style scoped>\n",
       "    .dataframe tbody tr th:only-of-type {\n",
       "        vertical-align: middle;\n",
       "    }\n",
       "\n",
       "    .dataframe tbody tr th {\n",
       "        vertical-align: top;\n",
       "    }\n",
       "\n",
       "    .dataframe thead th {\n",
       "        text-align: right;\n",
       "    }\n",
       "</style>\n",
       "<table border=\"1\" class=\"dataframe\">\n",
       "  <thead>\n",
       "    <tr style=\"text-align: right;\">\n",
       "      <th></th>\n",
       "      <th>patientid</th>\n",
       "      <th>appt_id</th>\n",
       "      <th>gender</th>\n",
       "      <th>sched_day</th>\n",
       "      <th>appt_day</th>\n",
       "      <th>age</th>\n",
       "      <th>neighborhood</th>\n",
       "      <th>scholarship</th>\n",
       "      <th>hypertension</th>\n",
       "      <th>diabetes</th>\n",
       "      <th>alcoholism</th>\n",
       "      <th>handicap</th>\n",
       "      <th>sms_received</th>\n",
       "      <th>no_show</th>\n",
       "      <th>days_to_appt</th>\n",
       "    </tr>\n",
       "  </thead>\n",
       "  <tbody>\n",
       "    <tr>\n",
       "      <th>27033</th>\n",
       "      <td>7.839273e+12</td>\n",
       "      <td>5679978</td>\n",
       "      <td>M</td>\n",
       "      <td>2016-05-10 10:51:53+00:00</td>\n",
       "      <td>2016-05-09 00:00:00+00:00</td>\n",
       "      <td>38</td>\n",
       "      <td>RESISTÊNCIA</td>\n",
       "      <td>0</td>\n",
       "      <td>0</td>\n",
       "      <td>0</td>\n",
       "      <td>0</td>\n",
       "      <td>1</td>\n",
       "      <td>0</td>\n",
       "      <td>Yes</td>\n",
       "      <td>-1</td>\n",
       "    </tr>\n",
       "    <tr>\n",
       "      <th>55226</th>\n",
       "      <td>7.896294e+12</td>\n",
       "      <td>5715660</td>\n",
       "      <td>F</td>\n",
       "      <td>2016-05-18 14:50:41+00:00</td>\n",
       "      <td>2016-05-17 00:00:00+00:00</td>\n",
       "      <td>19</td>\n",
       "      <td>SANTO ANTÔNIO</td>\n",
       "      <td>0</td>\n",
       "      <td>0</td>\n",
       "      <td>0</td>\n",
       "      <td>0</td>\n",
       "      <td>1</td>\n",
       "      <td>0</td>\n",
       "      <td>Yes</td>\n",
       "      <td>-1</td>\n",
       "    </tr>\n",
       "    <tr>\n",
       "      <th>64175</th>\n",
       "      <td>2.425226e+13</td>\n",
       "      <td>5664962</td>\n",
       "      <td>F</td>\n",
       "      <td>2016-05-05 13:43:58+00:00</td>\n",
       "      <td>2016-05-04 00:00:00+00:00</td>\n",
       "      <td>22</td>\n",
       "      <td>CONSOLAÇÃO</td>\n",
       "      <td>0</td>\n",
       "      <td>0</td>\n",
       "      <td>0</td>\n",
       "      <td>0</td>\n",
       "      <td>0</td>\n",
       "      <td>0</td>\n",
       "      <td>Yes</td>\n",
       "      <td>-1</td>\n",
       "    </tr>\n",
       "    <tr>\n",
       "      <th>71533</th>\n",
       "      <td>9.982316e+14</td>\n",
       "      <td>5686628</td>\n",
       "      <td>F</td>\n",
       "      <td>2016-05-11 13:49:20+00:00</td>\n",
       "      <td>2016-05-05 00:00:00+00:00</td>\n",
       "      <td>81</td>\n",
       "      <td>SANTO ANTÔNIO</td>\n",
       "      <td>0</td>\n",
       "      <td>0</td>\n",
       "      <td>0</td>\n",
       "      <td>0</td>\n",
       "      <td>0</td>\n",
       "      <td>0</td>\n",
       "      <td>Yes</td>\n",
       "      <td>-6</td>\n",
       "    </tr>\n",
       "    <tr>\n",
       "      <th>72362</th>\n",
       "      <td>3.787482e+12</td>\n",
       "      <td>5655637</td>\n",
       "      <td>M</td>\n",
       "      <td>2016-05-04 06:50:57+00:00</td>\n",
       "      <td>2016-05-03 00:00:00+00:00</td>\n",
       "      <td>7</td>\n",
       "      <td>TABUAZEIRO</td>\n",
       "      <td>0</td>\n",
       "      <td>0</td>\n",
       "      <td>0</td>\n",
       "      <td>0</td>\n",
       "      <td>0</td>\n",
       "      <td>0</td>\n",
       "      <td>Yes</td>\n",
       "      <td>-1</td>\n",
       "    </tr>\n",
       "  </tbody>\n",
       "</table>\n",
       "</div>"
      ],
      "text/plain": [
       "          patientid  appt_id gender                 sched_day  \\\n",
       "27033  7.839273e+12  5679978      M 2016-05-10 10:51:53+00:00   \n",
       "55226  7.896294e+12  5715660      F 2016-05-18 14:50:41+00:00   \n",
       "64175  2.425226e+13  5664962      F 2016-05-05 13:43:58+00:00   \n",
       "71533  9.982316e+14  5686628      F 2016-05-11 13:49:20+00:00   \n",
       "72362  3.787482e+12  5655637      M 2016-05-04 06:50:57+00:00   \n",
       "\n",
       "                       appt_day  age   neighborhood  scholarship  \\\n",
       "27033 2016-05-09 00:00:00+00:00   38    RESISTÊNCIA            0   \n",
       "55226 2016-05-17 00:00:00+00:00   19  SANTO ANTÔNIO            0   \n",
       "64175 2016-05-04 00:00:00+00:00   22     CONSOLAÇÃO            0   \n",
       "71533 2016-05-05 00:00:00+00:00   81  SANTO ANTÔNIO            0   \n",
       "72362 2016-05-03 00:00:00+00:00    7     TABUAZEIRO            0   \n",
       "\n",
       "       hypertension  diabetes  alcoholism  handicap  sms_received no_show  \\\n",
       "27033             0         0           0         1             0     Yes   \n",
       "55226             0         0           0         1             0     Yes   \n",
       "64175             0         0           0         0             0     Yes   \n",
       "71533             0         0           0         0             0     Yes   \n",
       "72362             0         0           0         0             0     Yes   \n",
       "\n",
       "       days_to_appt  \n",
       "27033            -1  \n",
       "55226            -1  \n",
       "64175            -1  \n",
       "71533            -6  \n",
       "72362            -1  "
      ]
     },
     "execution_count": 32,
     "metadata": {},
     "output_type": "execute_result"
    }
   ],
   "source": [
    "#Check for appointments with negative days between scheduling and appointment:\n",
    "wrong_dates= df[df['days_to_appt'] < 0]\n",
    "print(f'Total appointments with bad \\'days_to_appt\\' values: {wrong_dates.shape[0]}')\n",
    "wrong_dates.head()"
   ]
  },
  {
   "cell_type": "markdown",
   "metadata": {},
   "source": [
    "We can see we have 5 records with impossible negative time differences between their scheduling and appointment dates. 5 records out of over 110,000+ is very small so we will remove these records with known erroneous data. As before with our record with bad age data, there are a tremendous possible amount of possibilities for dates we could substitute in to correct these values, but it's not even clear which value of sched_date or appt_date should be corrected. Either could be updated. The total amount of appointments is very high but the total amount of appointments for any given day is much smaller, so adding a new record on a random particular date is more likely to alter the data of a particular given day than the one record will mean to an entire dataframe. For all these reasons we will now delete these 5 records:"
   ]
  },
  {
   "cell_type": "code",
   "execution_count": 34,
   "metadata": {},
   "outputs": [
    {
     "name": "stdout",
     "output_type": "stream",
     "text": [
      "Rows in dataframe before removal: 110526\n",
      "Rows in dataframe after removal: 110521\n"
     ]
    }
   ],
   "source": [
    "#Check shape of dataframe before deleteion\n",
    "print(f'Rows in dataframe before removal: {df.shape[0]}')\n",
    "\n",
    "#Drop entry at target index\n",
    "df.drop(wrong_dates.index, inplace=True)\n",
    "\n",
    "#Check shape of dataframe again after removal\n",
    "print(f'Rows in dataframe after removal: {df.shape[0]}')"
   ]
  },
  {
   "cell_type": "markdown",
   "metadata": {},
   "source": [
    "Now that we understand that the maximum length of time our data covers is less than a year let's go back and look at ages again. Our timespan is less than 1 year so no patientid should have associated age records with a difference greater than 1.\n",
    "\n",
    "Even after this normalization we may still discover errors if there are any appointments where the scheduling day is *after* the actual appointment. We will check for the existence of any of these types of errors below:"
   ]
  },
  {
   "cell_type": "code",
   "execution_count": 36,
   "metadata": {},
   "outputs": [
    {
     "data": {
      "text/plain": [
       "1"
      ]
     },
     "execution_count": 36,
     "metadata": {},
     "output_type": "execute_result"
    }
   ],
   "source": [
    "#Group by patientid and age, then use aggregate functions to get the min and max age values\n",
    "age_range = df.groupby('patientid')['age'].agg(['min','max'])\n",
    "#Calculate the difference between max and min ages to find the range\n",
    "age_difference = age_range['max'] - age_range['min']\n",
    "#Find the largest value of differences from the list\n",
    "age_difference.max()"
   ]
  },
  {
   "cell_type": "markdown",
   "metadata": {},
   "source": [
    "We see that the maximum difference of ages of any patientid is 1. This is at it should be, no one should be able to age more than 1 year since our time frame is less than a year. \n",
    "\n",
    "As we're doing a lot of work looking at dates it will be helpful to have a function to assist with this. I've created a function that will take a given dataframe object and print out useful datetime information about it. Let's use it to examine the sched_day and appt_day columns:"
   ]
  },
  {
   "cell_type": "code",
   "execution_count": 38,
   "metadata": {},
   "outputs": [
    {
     "name": "stdout",
     "output_type": "stream",
     "text": [
      "Earliest sched_day: 2015-11-10 07:13:56+00:00\n",
      "Latest sched_day: 2016-06-08 20:07:23+00:00\n",
      "Timespan of sched_day: 211 days\n",
      "\n",
      "Earliest appt_day: 2016-04-29 00:00:00+00:00\n",
      "Latest appt_day: 2016-06-08 00:00:00+00:00\n",
      "Timespan of appt_day: 40 days\n",
      "\n"
     ]
    }
   ],
   "source": [
    "#Create a function to calculate & output relevant date info\n",
    "def dates_analyzer(dataframe):\n",
    "    min = dataframe.min()\n",
    "    max = dataframe.max()\n",
    "    delta = max - min\n",
    "    print(f'Earliest {dataframe.name}: {min}\\n'\n",
    "      f'Latest {dataframe.name}: {max}\\n'\n",
    "      f'Timespan of {dataframe.name}: {delta.days} days\\n')\n",
    "    \n",
    "#Call our new dates_analyzer function on schedule and appointment data columns\n",
    "dates_analyzer(df['sched_day'])\n",
    "dates_analyzer(df['appt_day'])"
   ]
  },
  {
   "cell_type": "markdown",
   "metadata": {},
   "source": [
    "We've got the same end date for scheduled dates and appointment dates, but scheduling dates begin more than 5 months before the first appointment. This is a reasonable amount of time as many medical appointments are set in fixed intervals as follow-ups and check-ins. The end date for both columns matches. We can see the time span of actual appointments is 40 days. \n",
    "\n",
    "It will be helpful later to have columns that hold the day of the week in both name and int formats for each appointment. We'll be using both repeatedly in a function later on. So let's add those to our dataframe now:"
   ]
  },
  {
   "cell_type": "code",
   "execution_count": 40,
   "metadata": {},
   "outputs": [],
   "source": [
    "#Use datetime methods to pull day of the week info from appointments\n",
    "\n",
    "#Capture the day of the week for each appointment in string format\n",
    "df['appt_weekday'] = df['appt_day'].dt.day_name()\n",
    "\n",
    "#Capture the day of the week of each appointment in datetime int format\n",
    "df['appt_int_day'] = df['appt_day'].dt.dayofweek"
   ]
  },
  {
   "cell_type": "markdown",
   "metadata": {},
   "source": [
    "Now let's look at our total appointments by day of the week:"
   ]
  },
  {
   "cell_type": "code",
   "execution_count": 42,
   "metadata": {},
   "outputs": [
    {
     "data": {
      "image/png": "[encoded data removed]",
      "text/plain": [
       "<Figure size 640x480 with 1 Axes>"
      ]
     },
     "metadata": {},
     "output_type": "display_data"
    }
   ],
   "source": [
    "daysofweek1 = df['appt_int_day']\n",
    "daysofweek1.hist().set_title('Appointments by Day of the Week');"
   ]
  },
  {
   "cell_type": "markdown",
   "metadata": {},
   "source": [
    "Here we see the days of the week in their standard datetime int formats. They are numbered 0-6 for Monday through Sunday, accordingly. Notice that there are virtually no appointments on Sunday and almost none on Sunday. It seems the clinics are normally closed on weekends. Let's run the same test with our sched_day and see how they compare:"
   ]
  },
  {
   "cell_type": "code",
   "execution_count": 44,
   "metadata": {},
   "outputs": [
    {
     "data": {
      "image/png": "[encoded data removed]",
      "text/plain": [
       "<Figure size 640x480 with 1 Axes>"
      ]
     },
     "metadata": {},
     "output_type": "display_data"
    }
   ],
   "source": [
    "daysofweek2 = df['sched_day'].dt.dayofweek\n",
    "daysofweek2.hist().set_title('Appointment Schedulings by Day of the Week');"
   ]
  },
  {
   "cell_type": "markdown",
   "metadata": {},
   "source": [
    "We see very similar but different results. Given that we have a very large volume of data this may indicate broad population activity levels, habits, or patterns. Remember that sched_day records the date that an appointment was reservation was made, not the date of the actual appointment. Given that, it seems very likely that the healthcare system was normally closed on weekends. Out of 110,000+ appointments we would expect some amount of people to do some scheduling on Sundays, so it was likely not possible for patients to do so. This could be easily explained by the healthcare system's scheduling system being normally unavailable on weekends. \n",
    "\n",
    "There are reasonable possibilities for the small amount of Saturday appointments: medical emergencies, urgent reschedulings, etc. The amount of appointments are few but I left them in because I was curious to see how what little weekend data we had would compare with the rest of the week. "
   ]
  },
  {
   "cell_type": "markdown",
   "metadata": {},
   "source": [
    "### Alcoholism\n",
    "\n",
    "We'll perform a similar version to the age value test we did earlier to see if any patientid has more than 1 value for alcoholism. If there is more than 1 value for alcohlism across the same patientid that would indicate their status for alcoholism is inconsistent or changed across appointments."
   ]
  },
  {
   "cell_type": "code",
   "execution_count": 47,
   "metadata": {},
   "outputs": [
    {
     "data": {
      "text/plain": [
       "1"
      ]
     },
     "execution_count": 47,
     "metadata": {},
     "output_type": "execute_result"
    }
   ],
   "source": [
    "#Group the dataframe by patientid and alcoholism. This counts total # of alcoholism values for each patientid:\n",
    "age_test = df.groupby('patientid')['alcoholism'].nunique()\n",
    "\n",
    "#Examine the maximum amount of values any patient id has for age:\n",
    "age_test.max()"
   ]
  },
  {
   "cell_type": "markdown",
   "metadata": {},
   "source": [
    "We see that no patientid has more than 1 value for alcoholism; the values are consistent to each patient ID across appointments. This is good news as it will make our analysis simpler when we look at the behavior of patients with alcoholism later."
   ]
  },
  {
   "cell_type": "markdown",
   "metadata": {},
   "source": [
    "### SMS Received\n",
    "\n",
    "Let's review sms_received, our column that tracks if an appointment included an SMS (text) message being sent to the patient."
   ]
  },
  {
   "cell_type": "code",
   "execution_count": 50,
   "metadata": {},
   "outputs": [
    {
     "data": {
      "text/plain": [
       "count    110521.000000\n",
       "mean          0.321043\n",
       "std           0.466879\n",
       "min           0.000000\n",
       "25%           0.000000\n",
       "50%           0.000000\n",
       "75%           1.000000\n",
       "max           1.000000\n",
       "Name: sms_received, dtype: float64"
      ]
     },
     "execution_count": 50,
     "metadata": {},
     "output_type": "execute_result"
    }
   ],
   "source": [
    "#Review high level info about the sms_received column\n",
    "df['sms_received'].describe()"
   ]
  },
  {
   "cell_type": "markdown",
   "metadata": {},
   "source": [
    "Per the data dictionary from our [source data](https://www.kaggle.com/datasets/joniarroba/noshowappointments) this data is stored as a True/False value so we see 1 or 0 here to represent the boolean values of True or False, respectively. The mean value is closer to 0 than 1 which indicates most appointments did not include an sms message (text) being sent to the patient. The mean of 0.32 indicates that only 32% of appointments included texts. Overall this data looks good and ready for further analysis. We do not have information on why some appointments receive texts and others do not.\n"
   ]
  },
  {
   "cell_type": "markdown",
   "metadata": {},
   "source": [
    "### Handicap\n",
    "\n",
    "Our source data dictionary indicates the handicap should also be a True/False value, but we saw in our initial review of our dataframe that the maximum value in the handicap value was 4. Any value over 1 would not make sense with True/False values. Let's see how many total entries we have with a handicap value > 1 and what percentage of the data they represent:"
   ]
  },
  {
   "cell_type": "code",
   "execution_count": 53,
   "metadata": {},
   "outputs": [
    {
     "data": {
      "text/plain": [
       "handicap\n",
       "0    108282\n",
       "1      2040\n",
       "2       183\n",
       "3        13\n",
       "4         3\n",
       "Name: count, dtype: int64"
      ]
     },
     "execution_count": 53,
     "metadata": {},
     "output_type": "execute_result"
    }
   ],
   "source": [
    "df.handicap.value_counts()"
   ]
  },
  {
   "cell_type": "markdown",
   "metadata": {},
   "source": [
    "We have several entries with values >1 for handicap but thankfully they represent a relatively small amount of total entries. Let's see exactly how small:"
   ]
  },
  {
   "cell_type": "code",
   "execution_count": 55,
   "metadata": {},
   "outputs": [
    {
     "name": "stdout",
     "output_type": "stream",
     "text": [
      "Total entries with a handicap value >1 =  199\n",
      "Percentage of entries with a handicap value >1 = 0.18%\n"
     ]
    }
   ],
   "source": [
    "#Capture all entries with handicap values >1\n",
    "handicap_errors = df[df['handicap'] > 1].handicap.count()\n",
    "#Determine total % of entries have errors in handicap\n",
    "handicap_errors_percent = handicap_errors / df.shape[0]\n",
    "print('Total entries with a handicap value >1 = ', handicap_errors)\n",
    "print(f'Percentage of entries with a handicap value >1 = {handicap_errors_percent*100:.2f}%')"
   ]
  },
  {
   "cell_type": "markdown",
   "metadata": {},
   "source": [
    "199 may seem like a lot, but the percentage of entries with an error in the handicap column is less than a quarter of a percent. We could either normalize this data to handicap values of 1 or drop them entirely. Changing the values to 1 would be making an assumption that they were *meant* to have a value of 1 to indicate a handicapped patient, but we have no way of knowing this for certain. \n",
    "\n",
    "These erroneus entries are such a small percentage of our data that they aren't likely to affect our analysis very much if removed. I have chosen to drop these rows containing these errors rather than change them. Either would be a reasonable remedy but I'd rather remove entries with incorrect data instead of changing them based on assumptions of intent, however reasonable. We now remove these 199 entries:"
   ]
  },
  {
   "cell_type": "code",
   "execution_count": 57,
   "metadata": {},
   "outputs": [
    {
     "name": "stdout",
     "output_type": "stream",
     "text": [
      "Total rows before dropping entries with handicap errors: 110521\n",
      "Total rows after dropping entries with handicap errors: 110322\n"
     ]
    }
   ],
   "source": [
    "#Check shape of dataframe before deleteion\n",
    "print(f'Total rows before dropping entries with handicap errors: {df.shape[0]}')\n",
    "#Locate and view entry with bad age data\n",
    "handicap_target = df[df['handicap'] > 1]\n",
    "\n",
    "#Drop entries by their index\n",
    "df.drop(handicap_target.index, inplace=True)\n",
    "\n",
    "#Check shape of dataframe again after removal\n",
    "print(f'Total rows after dropping entries with handicap errors: {df.shape[0]}')"
   ]
  },
  {
   "cell_type": "markdown",
   "metadata": {},
   "source": [
    "### No Show\n",
    "\n",
    "We saw earlier that no_show is unlike other binary categories: it is a string type whie the others are ints that hold boolean values. To make working with these values easier we'll want to convert no_show to also be a boolean ints. \n",
    "\n",
    "Let's look at the category again:"
   ]
  },
  {
   "cell_type": "code",
   "execution_count": 59,
   "metadata": {},
   "outputs": [
    {
     "data": {
      "image/png": "[encoded data removed]",
      "text/plain": [
       "<Figure size 300x300 with 1 Axes>"
      ]
     },
     "metadata": {},
     "output_type": "display_data"
    }
   ],
   "source": [
    "#Review counts of each value for no show\n",
    "noshows = df['no_show'].value_counts()\n",
    "#Plot the values in a pie chart for pleasant viewing at-a-glance\n",
    "plot = noshows.plot.pie(autopct='%1.1f%%', figsize = (3,3), colors=['#42a5f5','#ff7070'])\n",
    "plt.title('Total No-Show % for All Appointments')\n",
    "#Hide 'count' y-label from our graph to improve aesthetic experience\n",
    "plt.ylabel('')\n",
    "plt.show()"
   ]
  },
  {
   "cell_type": "markdown",
   "metadata": {},
   "source": [
    "Here we can see our only two values for no_show. \"No\" is much more common so most appointments weren't no-shows. \"Yes\" indicates that 20.2% of appointments had patients that didn't show up. People mostly went to their appointments. Now let's convert these to boolean values to make subsequent calculations easier:"
   ]
  },
  {
   "cell_type": "code",
   "execution_count": 61,
   "metadata": {},
   "outputs": [
    {
     "data": {
      "text/plain": [
       "no_show\n",
       "0    88049\n",
       "1    22273\n",
       "Name: count, dtype: int64"
      ]
     },
     "execution_count": 61,
     "metadata": {},
     "output_type": "execute_result"
    }
   ],
   "source": [
    "#Convert Yes/No values to 1/0\n",
    "#Use map function to map the string values to ints, then rewrite column\n",
    "df['no_show'] = df['no_show'].map({'Yes': 1, 'No': 0})\n",
    "#Display new values for no_show\n",
    "df['no_show'].value_counts()"
   ]
  },
  {
   "cell_type": "markdown",
   "metadata": {},
   "source": [
    "We can see that we've converted from strings to ints succesfully. Great. We can proceeed with our analysis. "
   ]
  },
  {
   "cell_type": "markdown",
   "metadata": {},
   "source": [
    "<a id='eda'></a>\n",
    "## Exploratory Data Analysis\n",
    "\n",
    "Now that we've got our dataframe in good order we can begin our data analysis. We'll be looking at 3 independent variables:\n",
    "1. Day of the week\n",
    "2. Alcoholism\n",
    "3. SMS Received\n",
    "\n",
    "We will be looking at the impact of these on the dependent variable:\n",
    "1. No-Show\n",
    "\n",
    "Essentially we're going to take a look at how 3 different variables affect no-show rates for medical appointments, starting with the day of the week."
   ]
  },
  {
   "cell_type": "markdown",
   "metadata": {},
   "source": [
    "### 1. What days of the week are people most likely to no-show?\n",
    "\n",
    "Let's start by reviewing our baseline no-show rate for the entire dataframe, and holding that in a variable we can reuse:"
   ]
  },
  {
   "cell_type": "code",
   "execution_count": 65,
   "metadata": {},
   "outputs": [
    {
     "data": {
      "text/plain": [
       "0.2018908286651801"
      ]
     },
     "execution_count": 65,
     "metadata": {},
     "output_type": "execute_result"
    }
   ],
   "source": [
    "#get total appts\n",
    "total_appts = df.shape[0]\n",
    "#get all appts where no-show == 1\n",
    "no_show_appts = (df['no_show'] == 1).sum()\n",
    "no_show_rate = no_show_appts / total_appts\n",
    "no_show_rate"
   ]
  },
  {
   "cell_type": "markdown",
   "metadata": {},
   "source": [
    "As we saw earlier, the overall no-show rate for all appointments is about **20.2%**. This is good to have in mind as we move forward. \n",
    "\n",
    "We're going to spend a lot of time breaking down no-show rates by the day of the week in this notebook, so I have created a function to help us do this:"
   ]
  },
  {
   "cell_type": "code",
   "execution_count": 67,
   "metadata": {},
   "outputs": [],
   "source": [
    "def no_shows_days(dataframe):\n",
    "    #Takes an argument of a filtered dataframe like: df_no_sms_no_show = df[df['sms_received'] == 0]\n",
    "    #Group and count all appointments by day of the week\n",
    "    weekdayappts = dataframe.groupby(['appt_int_day'])['appt_day'].count()\n",
    "    #Group and count all no-show appointments by day of the week\n",
    "    weekdaynoshows = dataframe[dataframe['no_show'] == 1].groupby('appt_int_day')['appt_day'].count()\n",
    "    #Calculate the no-show rate for each day of the week\n",
    "    weekday_no_show_rate = weekdaynoshows / weekdayappts\n",
    "\n",
    "    #Create and return a new dataframe with no-show data for each day \n",
    "    df_new = weekday_no_show_rate.reset_index()\n",
    "    df_new.columns = ['int_day', 'no_show_rate']\n",
    "    df_new['day_name'] = np.array(['Monday', 'Tuesday', 'Wednesday', 'Thursday', 'Friday', 'Saturday'])\n",
    "    df_new['total_no_shows'] = weekdaynoshows.reset_index(drop=True)\n",
    "    return df_new"
   ]
  },
  {
   "cell_type": "markdown",
   "metadata": {},
   "source": [
    "We'll use this new function on our primary dataframe first:"
   ]
  },
  {
   "cell_type": "code",
   "execution_count": 69,
   "metadata": {},
   "outputs": [
    {
     "data": {
      "text/html": [
       "<div>\n",
       "<style scoped>\n",
       "    .dataframe tbody tr th:only-of-type {\n",
       "        vertical-align: middle;\n",
       "    }\n",
       "\n",
       "    .dataframe tbody tr th {\n",
       "        vertical-align: top;\n",
       "    }\n",
       "\n",
       "    .dataframe thead th {\n",
       "        text-align: right;\n",
       "    }\n",
       "</style>\n",
       "<table border=\"1\" class=\"dataframe\">\n",
       "  <thead>\n",
       "    <tr style=\"text-align: right;\">\n",
       "      <th></th>\n",
       "      <th>int_day</th>\n",
       "      <th>no_show_rate</th>\n",
       "      <th>day_name</th>\n",
       "      <th>total_no_shows</th>\n",
       "    </tr>\n",
       "  </thead>\n",
       "  <tbody>\n",
       "    <tr>\n",
       "      <th>0</th>\n",
       "      <td>0</td>\n",
       "      <td>0.206377</td>\n",
       "      <td>Monday</td>\n",
       "      <td>4680</td>\n",
       "    </tr>\n",
       "    <tr>\n",
       "      <th>1</th>\n",
       "      <td>1</td>\n",
       "      <td>0.200688</td>\n",
       "      <td>Tuesday</td>\n",
       "      <td>5134</td>\n",
       "    </tr>\n",
       "    <tr>\n",
       "      <th>2</th>\n",
       "      <td>2</td>\n",
       "      <td>0.196840</td>\n",
       "      <td>Wednesday</td>\n",
       "      <td>5083</td>\n",
       "    </tr>\n",
       "    <tr>\n",
       "      <th>3</th>\n",
       "      <td>3</td>\n",
       "      <td>0.193657</td>\n",
       "      <td>Thursday</td>\n",
       "      <td>3334</td>\n",
       "    </tr>\n",
       "    <tr>\n",
       "      <th>4</th>\n",
       "      <td>4</td>\n",
       "      <td>0.212431</td>\n",
       "      <td>Friday</td>\n",
       "      <td>4033</td>\n",
       "    </tr>\n",
       "    <tr>\n",
       "      <th>5</th>\n",
       "      <td>5</td>\n",
       "      <td>0.230769</td>\n",
       "      <td>Saturday</td>\n",
       "      <td>9</td>\n",
       "    </tr>\n",
       "  </tbody>\n",
       "</table>\n",
       "</div>"
      ],
      "text/plain": [
       "   int_day  no_show_rate   day_name  total_no_shows\n",
       "0        0      0.206377     Monday            4680\n",
       "1        1      0.200688    Tuesday            5134\n",
       "2        2      0.196840  Wednesday            5083\n",
       "3        3      0.193657   Thursday            3334\n",
       "4        4      0.212431     Friday            4033\n",
       "5        5      0.230769   Saturday               9"
      ]
     },
     "execution_count": 69,
     "metadata": {},
     "output_type": "execute_result"
    }
   ],
   "source": [
    "#Pull no-show data for main dataframe\n",
    "df_noshow = no_shows_days(df)\n",
    "df_noshow"
   ]
  },
  {
   "cell_type": "markdown",
   "metadata": {},
   "source": [
    "Let's see those results sorted by highest no-show percentage:"
   ]
  },
  {
   "cell_type": "code",
   "execution_count": 71,
   "metadata": {},
   "outputs": [
    {
     "name": "stdout",
     "output_type": "stream",
     "text": [
      "No-show % by day of the week:\n"
     ]
    },
    {
     "data": {
      "text/html": [
       "<div>\n",
       "<style scoped>\n",
       "    .dataframe tbody tr th:only-of-type {\n",
       "        vertical-align: middle;\n",
       "    }\n",
       "\n",
       "    .dataframe tbody tr th {\n",
       "        vertical-align: top;\n",
       "    }\n",
       "\n",
       "    .dataframe thead th {\n",
       "        text-align: right;\n",
       "    }\n",
       "</style>\n",
       "<table border=\"1\" class=\"dataframe\">\n",
       "  <thead>\n",
       "    <tr style=\"text-align: right;\">\n",
       "      <th></th>\n",
       "      <th>day_name</th>\n",
       "      <th>no_show_rate</th>\n",
       "    </tr>\n",
       "  </thead>\n",
       "  <tbody>\n",
       "    <tr>\n",
       "      <th>5</th>\n",
       "      <td>Saturday</td>\n",
       "      <td>0.230769</td>\n",
       "    </tr>\n",
       "    <tr>\n",
       "      <th>4</th>\n",
       "      <td>Friday</td>\n",
       "      <td>0.212431</td>\n",
       "    </tr>\n",
       "    <tr>\n",
       "      <th>0</th>\n",
       "      <td>Monday</td>\n",
       "      <td>0.206377</td>\n",
       "    </tr>\n",
       "    <tr>\n",
       "      <th>1</th>\n",
       "      <td>Tuesday</td>\n",
       "      <td>0.200688</td>\n",
       "    </tr>\n",
       "    <tr>\n",
       "      <th>2</th>\n",
       "      <td>Wednesday</td>\n",
       "      <td>0.196840</td>\n",
       "    </tr>\n",
       "    <tr>\n",
       "      <th>3</th>\n",
       "      <td>Thursday</td>\n",
       "      <td>0.193657</td>\n",
       "    </tr>\n",
       "  </tbody>\n",
       "</table>\n",
       "</div>"
      ],
      "text/plain": [
       "    day_name  no_show_rate\n",
       "5   Saturday      0.230769\n",
       "4     Friday      0.212431\n",
       "0     Monday      0.206377\n",
       "1    Tuesday      0.200688\n",
       "2  Wednesday      0.196840\n",
       "3   Thursday      0.193657"
      ]
     },
     "execution_count": 71,
     "metadata": {},
     "output_type": "execute_result"
    }
   ],
   "source": [
    "#Sort no-show data for highest no-show % first\n",
    "highest_no_show_days = df_noshow.sort_values(by='no_show_rate', ascending=False)\n",
    "print('No-show % by day of the week:')\n",
    "highest_no_show_days[['day_name','no_show_rate']]"
   ]
  },
  {
   "cell_type": "code",
   "execution_count": 72,
   "metadata": {},
   "outputs": [
    {
     "data": {
      "image/png": "[encoded data removed]",
      "text/plain": [
       "<Figure size 640x480 with 1 Axes>"
      ]
     },
     "metadata": {},
     "output_type": "display_data"
    },
    {
     "data": {
      "image/png": "[encoded data removed]",
      "text/plain": [
       "<Figure size 640x480 with 1 Axes>"
      ]
     },
     "metadata": {},
     "output_type": "display_data"
    }
   ],
   "source": [
    "#print(no_show_rates_days)\n",
    "#(dotw[day],no_show_rates[day])\n",
    "days = df_noshow['day_name']\n",
    "percentages = df_noshow['no_show_rate']\n",
    "\n",
    "#Plot first graph of data\n",
    "plt.bar(days, percentages, color='#42a5f5')\n",
    "\n",
    "#Add labels and title\n",
    "plt.xlabel('Weekday')\n",
    "plt.ylabel('No-Show %')\n",
    "plt.title('No-Show Rates by Weekday')\n",
    "plt.xticks(rotation=45)\n",
    "\n",
    "#Display first bar chart\n",
    "plt.show();\n",
    "\n",
    "#We add filtering here to remove Sunday so it matches the graph above\n",
    "days = df_noshow['day_name']\n",
    "appointments = df_noshow['total_no_shows']\n",
    "\n",
    "#Change labels for second chart\n",
    "plt.ylabel('Total Appointments')\n",
    "plt.title('Total Appointments by Weekday')\n",
    "plt.xticks(rotation=45)\n",
    "\n",
    "#Display second bar chart\n",
    "plt.bar(days, appointments, color='#ff7070');"
   ]
  },
  {
   "cell_type": "markdown",
   "metadata": {},
   "source": [
    "We can see that the no-show rate is highest on **Saturday**, followed by *Friday and Monday* respectively. It's worth noting that we had extremely few Saturday appointments so that data has the smallest sample size.  No-show rates are lowest on Thursday, Wednesday, and Tuesday. We have no appointments on Sunday.\n",
    "\n",
    "We can see that **no-show rates are higher near the weekend and lower toward the middle of the week.** Our top 3 days of the week, in order, that people are most likely to no-show are:\n",
    "1. Saturday\n",
    "2. Friday\n",
    "3. Monday"
   ]
  },
  {
   "cell_type": "markdown",
   "metadata": {},
   "source": [
    "After seeing this data it seems that there might be a negative correlation between appointment volume and no-show rates. Days of the week with higher amounts of appointments had lower no-show rates. \n",
    "\n",
    "Let's take it one step further. Below we will look at the number of appointments and no-show rate for every appointment date in our dataframe. If there is a negative correlation between volume and no-show rate we would see some form of a downward sloping line in the scatterplot:"
   ]
  },
  {
   "cell_type": "code",
   "execution_count": 75,
   "metadata": {},
   "outputs": [
    {
     "data": {
      "image/png": "[encoded data removed]",
      "text/plain": [
       "<Figure size 640x480 with 1 Axes>"
      ]
     },
     "metadata": {},
     "output_type": "display_data"
    },
    {
     "name": "stdout",
     "output_type": "stream",
     "text": [
      "Correlation coefficient between volume of appointments and no-show rate: -0.3388419032446436\n"
     ]
    }
   ],
   "source": [
    "#Group all appointments by their date and count the volume of appointments on each day\n",
    "appts_by_date = df.groupby('appt_day').size()\n",
    "#Group all no-show appointments by their date and count volume of no-shows on each day\n",
    "no_show_by_date = df[df['no_show'] == 1].groupby('appt_day').size()\n",
    "\n",
    "#Calculate the no-show percentage for every day\n",
    "no_show_perc_by_date = no_show_by_date/appts_by_date\n",
    "\n",
    "#Plot total # of appointments by date against no-show % by date\n",
    "plt.scatter(appts_by_date, no_show_perc_by_date, color='#ff3939')\n",
    "plt.show();\n",
    "\n",
    "#Calculate the correlation coefficient\n",
    "correlation = appts_by_date.corr(no_show_perc_by_date)\n",
    "print(f'Correlation coefficient between volume of appointments and no-show rate: {correlation}')"
   ]
  },
  {
   "cell_type": "markdown",
   "metadata": {},
   "source": [
    "We do technically see a modest negative correlation but overall our trend line is mostly vertical points on the right side of the graph. This tells us two things:\n",
    "1. **The volume of appointments on any given day in this healthcare system was consistent.** We see most of the data points hovering around 4000 appointments a day. This is likely by design of the healthcare system to manage capacity.\n",
    "2. **The no-show rate on any given day was not consistent.** We see a range of values on the Y-axis varying from around 0.17 to 0.23\n",
    "\n",
    "We can infer from this data that while the day of the week can be an effective predictor of no-show rates, dates are not. "
   ]
  },
  {
   "cell_type": "markdown",
   "metadata": {},
   "source": [
    "### 2. What is the difference between alcoholics and non-alcoholics in no-show rates?\n",
    "\n",
    "Alcoholism is a disease with a high amount of negative associations for physical and social well being. \n",
    "We'll now look at no-show rates between alcoholics and non-alcoholics and compare the no-show rate for each. "
   ]
  },
  {
   "cell_type": "code",
   "execution_count": 78,
   "metadata": {},
   "outputs": [
    {
     "name": "stdout",
     "output_type": "stream",
     "text": [
      "Non-alcoholic no-show rate: 20.19% (21598/106970)\n",
      "Alcoholic no-show rate: 20.14% (675/3352)\n"
     ]
    }
   ],
   "source": [
    "#Create variables for *non-alcoholic* appointments and no-shows\n",
    "non_alc_appts = []\n",
    "no_show_non_alc_appts = []\n",
    "\n",
    "#Create variables for *alcohlic* appointments and no-shows\n",
    "alc_appts = []\n",
    "no_show_alc_appts = []\n",
    "\n",
    "#Calculate *non-alcoholic* no-show rate\n",
    "non_alc_appts = df[df['alcoholism'] == 0]\n",
    "no_show_non_alc_appts = df[(df['alcoholism'] == 0) & (df['no_show'] == 1)]\n",
    "non_alc_rate = (no_show_non_alc_appts.shape[0] / non_alc_appts.shape[0]) * 100\n",
    "print(f'Non-alcoholic no-show rate: {non_alc_rate:.2f}% ({no_show_non_alc_appts.shape[0]}/{non_alc_appts.shape[0]})')\n",
    "\n",
    "#Calculate *non-alcoholic* no-show rate\n",
    "alc_appts = df[df['alcoholism'] == 1]\n",
    "no_show_alc_appts = df[(df['alcoholism'] == 1) & (df['no_show'] == 1)]\n",
    "alc_rate = (no_show_alc_appts.shape[0] / alc_appts.shape[0]) * 100\n",
    "print(f'Alcoholic no-show rate: {alc_rate:.2f}% ({no_show_alc_appts.shape[0]}/{alc_appts.shape[0]})')"
   ]
  },
  {
   "cell_type": "markdown",
   "metadata": {},
   "source": [
    "We can see that **patients with alcoholism had *extremely* similar no-show rates as with patients without alcoholism**. \n",
    "\n",
    "The rate of no-shows was almost identical between both groups, only varying by hundredths of a percent and in the alcoholics' favor! This was so surprising to me that I put extra detail in the output statements because I wanted to see the actual numbers to be sure. \n",
    "\n",
    "This is a good example of data disproving bias: I am a former alcoholic who was perpetually late or absent at important life events. I started this analysis expecting to see marked increase in no-shows from alcoholic patients that would be in line with my experience. This is not seen in the data."
   ]
  },
  {
   "cell_type": "code",
   "execution_count": 80,
   "metadata": {},
   "outputs": [
    {
     "data": {
      "image/png": "[encoded data removed]",
      "text/plain": [
       "<Figure size 640x480 with 1 Axes>"
      ]
     },
     "metadata": {},
     "output_type": "display_data"
    }
   ],
   "source": [
    "#Graph all 3 no-show rates together, Alc, Non-Alc, Baseline\n",
    "#Convert baseline no-show rate from decimal to % to match other rates\n",
    "no_show_rate_graph = no_show_rate * 100\n",
    "no_show_rates_three_ways = [no_show_rate_graph, non_alc_rate, alc_rate]\n",
    "labels = ['Baseline','Non-alcoholics','Alcoholics']\n",
    "\n",
    "plt.title('No-Show Rates by Alcoholism')\n",
    "plt.ylabel('No-Show %')\n",
    "plt.bar(labels, no_show_rates_three_ways,color=['#66bb6a','#42a5f5','#ff7070']);"
   ]
  },
  {
   "cell_type": "markdown",
   "metadata": {},
   "source": [
    "*Underwhelming, isn't it?* Perhaps not. \n",
    "\n",
    "This sort of graph may seem silly but it can actually provide some use. It makes something painfully obvious for decision makers of this healthcare system: missing appointments is not something that they need to be concerned about for alcoholic patients. If other people had the same incorrect assumptions I did that alcoholics would have a marked increase in no-show rates, this puts that to rest pretty quickly. This could let staff focus their efforts more productively elsewhere for managing care."
   ]
  },
  {
   "cell_type": "markdown",
   "metadata": {},
   "source": [
    "### 3. How does texting patients affect their likelihood to no-show?\n",
    "\n",
    "Let's now examine what impact receving SMS messages had on no-show rates:"
   ]
  },
  {
   "cell_type": "code",
   "execution_count": 83,
   "metadata": {},
   "outputs": [
    {
     "name": "stdout",
     "output_type": "stream",
     "text": [
      "Appointments without SMS no-show rate: 16.69% (12498/74887)\n",
      "Appointments with SMS no-show rate: 27.59% (9775/35435)\n"
     ]
    }
   ],
   "source": [
    "#Capture all appointments that *didn't* receive SMS messages\n",
    "no_sms_appts = df[df['sms_received'] == 0]\n",
    "no_show_no_sms_appts = df[(df['sms_received'] == 0) & (df['no_show']  == 1)]\n",
    "no_sms_rate = (no_show_no_sms_appts.shape[0] / no_sms_appts.shape[0]) * 100\n",
    "#Output results\n",
    "print(f'Appointments without SMS no-show rate: {no_sms_rate:.2f}% ({no_show_no_sms_appts.shape[0]}/{no_sms_appts.shape[0]})')\n",
    "\n",
    "#Capture all appointments that *did* receive SMS messages\n",
    "sms_appts = df[df['sms_received'] == 1]\n",
    "no_show_sms_appts = df[(df['sms_received'] == 1) & (df['no_show']  == 1)]\n",
    "sms_rate = (no_show_sms_appts.shape[0] / sms_appts.shape[0]) * 100\n",
    "#Output results\n",
    "print(f'Appointments with SMS no-show rate: {sms_rate:.2f}% ({no_show_sms_appts.shape[0]}/{sms_appts.shape[0]})')"
   ]
  },
  {
   "cell_type": "markdown",
   "metadata": {},
   "source": [
    "Here we can see that appointments without SMS messages had significantly fewer no-shows than appointments that did. This result also surprised me because I expected SMS messages to reduce no-show rates, but that is not what we see in this example. This may seem counter-intuitive at first, until we consider what causes some appointments to get SMS messages. \n",
    "\n",
    "Next let's take a look at side-by-side data for SMS and non-SMS appointments broken down by day of the week:"
   ]
  },
  {
   "cell_type": "code",
   "execution_count": 85,
   "metadata": {},
   "outputs": [
    {
     "data": {
      "image/png": "[encoded data removed]",
      "text/plain": [
       "<Figure size 640x480 with 1 Axes>"
      ]
     },
     "metadata": {},
     "output_type": "display_data"
    }
   ],
   "source": [
    "#Breakdown our dataframes from last cell by day\n",
    "chart_no_sms_appts = no_shows_days(no_sms_appts)\n",
    "chart_yes_sms_appts = no_shows_days(sms_appts)\n",
    "\n",
    "#We use the same days of the week for each graph, we will use the same x-values\n",
    "x_names=df_noshow['day_name']\n",
    "#To make this 2-bar graph work we create an iterable for each day, then offset from it\n",
    "x_index = np.array([0,1,2,3,4,5])\n",
    "\n",
    "#Graph different y-values for each \n",
    "y1=chart_no_sms_appts['no_show_rate']\n",
    "y2=chart_yes_sms_appts['no_show_rate']\n",
    "\n",
    "#Width for bars and offset\n",
    "plot_width = 0.3\n",
    "\n",
    "#Plot each dataframe, converting decimals to whole number %'s for graphing clarity\n",
    "plt.bar(x_index + (plot_width/2), y1*100, color='#ff7070',label = 'No SMS', width = plot_width)\n",
    "plt.bar(x_index - (plot_width/2), y2*100, color='#42a5f5', label = 'SMS', width = plot_width)\n",
    "\n",
    "#Add graph features\n",
    "plt.legend()\n",
    "plt.xlabel('Weekday')\n",
    "plt.xticks(x_index, x_names, rotation=45)\n",
    "\n",
    "plt.ylabel('No-Show Rate (%)')\n",
    "plt.title('No-Show Rates by Day, SMS vs. No SMS')\n",
    "\n",
    "\n",
    "plt.show();"
   ]
  },
  {
   "cell_type": "markdown",
   "metadata": {},
   "source": [
    "We see that even when broken down day-by-day there isn't a single day of the week where SMS appointments have a lower no-show percentage than appointments without SMS messages. I suspect there is a lurking variable here - why do some patients get SMS messages and some don't? I wanted to see if it was related to how far away into the future an appointment was scheduled. Let's take a look:"
   ]
  },
  {
   "cell_type": "code",
   "execution_count": 87,
   "metadata": {},
   "outputs": [
    {
     "data": {
      "image/png": "[encoded data removed]",
      "text/plain": [
       "<Figure size 640x480 with 1 Axes>"
      ]
     },
     "metadata": {},
     "output_type": "display_data"
    },
    {
     "name": "stdout",
     "output_type": "stream",
     "text": [
      "SMS appointments:\n",
      " - Average time between scheduling and appointment 19 days\n",
      " - Shortest time between scheduling and appointment: 3 days\n",
      " - Longest time between scheduling and appointment: 179 days \n",
      "\n",
      "Non-SMS appointments:\n",
      " - Average time between scheduling and appointment 6 days\n",
      " - Shortest time between scheduling and appointment: 0 days\n",
      " - Longest time between scheduling and appointment: 179 days\n"
     ]
    }
   ],
   "source": [
    "#Create box plot for SMS and appointment data\n",
    "sns.boxplot(data=df,x='sms_received', y='days_to_appt')\n",
    "plt.xlabel('SMS Received')\n",
    "plt.xticks(ticks=[0,1], labels=['No','Yes'])\n",
    "plt.ylabel('Days to Appointment')\n",
    "plt.show()\n",
    "\n",
    "#Capture variables for output statement below\n",
    "mean_sms = sms_appts['days_to_appt'].mean()\n",
    "mean_no_sms = no_sms_appts['days_to_appt'].mean()\n",
    "\n",
    "min_sms = sms_appts['days_to_appt'].min()\n",
    "min_no_sms = no_sms_appts['days_to_appt'].min()\n",
    "\n",
    "max_sms = sms_appts['days_to_appt'].max()\n",
    "max_no_sms = no_sms_appts['days_to_appt'].max()\n",
    "\n",
    "#Print high level data about our findings\n",
    "print(f'SMS appointments:\\n - Average time between scheduling and appointment {mean_sms:.0f} days'\n",
    "    f'\\n - Shortest time between scheduling and appointment: {min_sms:.0f} days'\n",
    "    f'\\n - Longest time between scheduling and appointment: {max_sms:.0f} days \\n')\n",
    "\n",
    "print(f'Non-SMS appointments:\\n - Average time between scheduling and appointment {mean_no_sms:.0f} days'\n",
    "    f'\\n - Shortest time between scheduling and appointment: {min_no_sms:.0f} days'\n",
    "    f'\\n - Longest time between scheduling and appointment: {max_no_sms:.0f} days')"
   ]
  },
  {
   "cell_type": "markdown",
   "metadata": {},
   "source": [
    "It seems the length of time from scheduling to appointment is correlated with SMS messages. We have outliers in both categories and we can still see that **on average most appointments that are scheduled within a week do not receive SMS messages**. There may be different policies and capabilities for texting between different healthcare locations. \n",
    "\n",
    "Appointments that are made further in the future have more time for complications to arise or for the patient to forget, so this may explain why patients that got SMS reminders were less likely to make their appointments. "
   ]
  },
  {
   "cell_type": "markdown",
   "metadata": {},
   "source": [
    "<a id='conclusions'></a>\n",
    "## Conclusions\n",
    "\n",
    "We've reviewed, wrangled, cleaned, and analyzed our data. What did we discover? What questions remain, and where might we go from here?"
   ]
  },
  {
   "attachments": {},
   "cell_type": "markdown",
   "metadata": {},
   "source": [
    "<h3 style=\"color:#ff7070;\">Influence of the Day of the Week on No-Show Rates</h3>\n",
    "\n",
    "We saw that the day of the week was correlated with appointment volume and no-show rates. No-show rates for each day of the week are ranked in descending order:\n",
    "\n",
    "1. Saturday: 23.1%\n",
    "2. Friday: 21.2%\n",
    "3. Monday: 20.6%\n",
    "4. Tuesday: 20.1%\n",
    "5. Wednesday: 19.7%\n",
    "6. Thursday: 19.4%\n",
    "\n",
    "It's worth reiterating that our volume of appointments on Saturday was much smaller than all other days, and the clinic doesn't seem to be normally open on Saturdays so our findings on Saturday may be less useful. However it is in line with one of our observations:\n",
    "\n",
    "*No-show rates were elevated near the weekend.* \n",
    "\n",
    "Other points we discovered in our analysis:\n",
    "- The actual variance in no-show rates on average between days was very slim: the greatest difference was only 3.4%.\n",
    "- The volume of appointments on any given day was consistent, about 4000 appointments per day.\n",
    "- The lowest no-show rate we observed in our data was 17%. \n",
    "\n",
    "If this healthcare system was in need to squeeze every possible efficiency out of their resources, they could potentially either scale down their operations or increase appointment volume by *up to* 17%. This could lead to significant savings or increased patient capacity. If we expect that at least 17% of patients on any given day aren't going to show, we can adjust accordingly in advance. This carries some risk of being caught over-capacity. It is possible that this healthcare system already takes into account some amount of no-shows in their planning. This report could still be valuable as a check-in to regularly monitor for variance."
   ]
  },
  {
   "cell_type": "markdown",
   "metadata": {},
   "source": [
    "<h3 style=\"color:#ff7070;\">Influence of Alcoholism on No-Show Rates</h3>\n",
    "\n",
    "Our analysis showed that alcoholic patients and non-alcoholic patients made their appointments at almost indistinguishable rates:\n",
    "- Alcoholic no-show rate: 20.14%\n",
    "- Non-alcoholic no-show rate: 20.19%\n",
    "\n",
    "I haven't been able to think of very many uses for this data beside disproving my own initial biased hypothesis that alcoholics would have elevated no-show rates. I expect there are others who would make the same assumption if asked to make a guess. It is of course valuable to use data to disprove bias, especially as it relates to people and healthcare. This discovery could be a good starting point for staff at this organizaiton to examine other untested assuptions about their patients. It would be interesting to survey healthcare workers how they think patients with alcoholism compare to non-alcoholic patients with regard to no-show rates. My guess is that there would be others with my same incorrect assumption. You could them present them the data that it made effectively no difference. It's a good way to start a conversation with staff about examining their biases about their patients."
   ]
  },
  {
   "cell_type": "markdown",
   "metadata": {},
   "source": [
    "<h3 style=\"color:#ff7070;\">Influence of the Day of the Week on No-Show Rates</h3>\n",
    "\n",
    "We also observed that patients who received SMS messages (texts) about their appointments had an increased rate of no-shows. Upon deeper investigation we also saw that appointments that received texts were on average made much futher into the future than medical appointments without texts. \n",
    "\n",
    "Some good next steps to follow up on this analysis:\n",
    "- Measure if number of days from scheduling to appointment is more highly correlated with no-shows. We could do this here but this report is already *quite* long and this is outside the scope of our original investigations.\n",
    "- Consider what other interventions may be possible and run A/B tests to see if those interventions are successful at improving no-show rates. It may be that texting just isn't very helpful to decrease no-show rates. "
   ]
  },
  {
   "cell_type": "markdown",
   "metadata": {},
   "source": [
    "### Limitations of this Report\n",
    "It's always worth repeating that *correlation does not always indicate causation*. My analysis and interpretation should be considred a (*hopefully*) helpful layer of data insights that could direct additional research and follow-up outlined above.\n",
    "\n",
    "Perhaps most importantly, I have performed this analysis without first-hand knowledge of the Brazilian healthcare system. I am an outsider without the specific organizational, industrial, or cultural knowledge from where this data originated. There may be additional explanations for trends in this data that would be visible to others with this experience. \n",
    "\n",
    "We don't know the standard for what constitutes \"alcoholism\" in this data. We don't know if it is diagnosed by a medical provider or self-reported information. \n",
    "\n",
    "We also don't know what *specific* circumstances determine when SMS messages are sent for appointments. We observed a correlation between SMS messages and the distance from scheduling to appointment, but the actual criteria of which appointments receive these messages is still unknown to us. "
   ]
  }
 ],
 "metadata": {
  "kernelspec": {
   "display_name": "Python 3 (ipykernel)",
   "language": "python",
   "name": "python3"
  },
  "language_info": {
   "codemirror_mode": {
    "name": "ipython",
    "version": 3
   },
   "file_extension": ".py",
   "mimetype": "text/x-python",
   "name": "python",
   "nbconvert_exporter": "python",
   "pygments_lexer": "ipython3",
   "version": "3.10.14"
  }
 },
 "nbformat": 4,
 "nbformat_minor": 4
}
